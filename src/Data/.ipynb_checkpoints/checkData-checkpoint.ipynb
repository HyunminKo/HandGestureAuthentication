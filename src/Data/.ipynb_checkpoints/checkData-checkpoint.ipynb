{
 "cells": [
  {
   "cell_type": "code",
   "execution_count": 8,
   "metadata": {},
   "outputs": [
    {
     "name": "stdout",
     "output_type": "stream",
     "text": [
      "['1', '10', '100', '1000', '10000', '100000', '100001', '100002', '100003', '100004']\n",
      "148092\n"
     ]
    }
   ],
   "source": [
    "import os\n",
    "import cv2\n",
    "dataFilesPath = '/Users/hyunminko/20bn-datasets/20bn-jester-v1'\n",
    "dataFiles = os.listdir(dataFilesPath)\n",
    "dataFiles.sort()\n",
    "dataFiles.remove('.DS_Store')\n",
    "print(dataFiles[:10])\n",
    "print(len(dataFiles))"
   ]
  },
  {
   "cell_type": "code",
   "execution_count": 12,
   "metadata": {},
   "outputs": [
    {
     "name": "stdout",
     "output_type": "stream",
     "text": [
      "['00025.jpg', '00031.jpg', '00019.jpg', '00018.jpg', '00030.jpg', '00024.jpg', '00032.jpg', '00026.jpg', '00027.jpg', '00033.jpg', '00037.jpg', '00023.jpg', '00022.jpg', '00036.jpg', '00008.jpg', '00020.jpg', '00034.jpg', '00035.jpg', '00021.jpg', '00009.jpg', '00004.jpg', '00010.jpg', '00011.jpg', '00005.jpg', '00013.jpg', '00007.jpg', '00006.jpg', '00012.jpg', '00016.jpg', '00002.jpg', '00003.jpg', '00017.jpg', '00029.jpg', '00001.jpg', '00015.jpg', '00014.jpg', '00028.jpg']\n"
     ]
    },
    {
     "ename": "AttributeError",
     "evalue": "'NoneType' object has no attribute 'shape'",
     "output_type": "error",
     "traceback": [
      "\u001b[0;31m---------------------------------------------------------------------------\u001b[0m",
      "\u001b[0;31mAttributeError\u001b[0m                            Traceback (most recent call last)",
      "\u001b[0;32m<ipython-input-12-5213b703fe62>\u001b[0m in \u001b[0;36m<module>\u001b[0;34m()\u001b[0m\n\u001b[1;32m      4\u001b[0m     \u001b[0mprint\u001b[0m\u001b[0;34m(\u001b[0m\u001b[0mimgFileNames\u001b[0m\u001b[0;34m)\u001b[0m\u001b[0;34m\u001b[0m\u001b[0m\n\u001b[1;32m      5\u001b[0m     \u001b[0mimg\u001b[0m \u001b[0;34m=\u001b[0m \u001b[0mcv2\u001b[0m\u001b[0;34m.\u001b[0m\u001b[0mimread\u001b[0m\u001b[0;34m(\u001b[0m\u001b[0mimgFileNames\u001b[0m\u001b[0;34m[\u001b[0m\u001b[0;36m0\u001b[0m\u001b[0;34m]\u001b[0m\u001b[0;34m)\u001b[0m\u001b[0;34m\u001b[0m\u001b[0m\n\u001b[0;32m----> 6\u001b[0;31m     \u001b[0mrows\u001b[0m\u001b[0;34m,\u001b[0m \u001b[0mcols\u001b[0m \u001b[0;34m=\u001b[0m \u001b[0mimg\u001b[0m\u001b[0;34m.\u001b[0m\u001b[0mshape\u001b[0m\u001b[0;34m[\u001b[0m\u001b[0;34m:\u001b[0m\u001b[0;36m2\u001b[0m\u001b[0;34m]\u001b[0m\u001b[0;34m\u001b[0m\u001b[0m\n\u001b[0m\u001b[1;32m      7\u001b[0m     \u001b[0mresolutionStr\u001b[0m \u001b[0;34m=\u001b[0m \u001b[0mstr\u001b[0m\u001b[0;34m(\u001b[0m\u001b[0mrows\u001b[0m\u001b[0;34m)\u001b[0m\u001b[0;34m+\u001b[0m\u001b[0;34m'x'\u001b[0m\u001b[0;34m+\u001b[0m\u001b[0mstr\u001b[0m\u001b[0;34m(\u001b[0m\u001b[0mcols\u001b[0m\u001b[0;34m)\u001b[0m\u001b[0;34m\u001b[0m\u001b[0m\n\u001b[1;32m      8\u001b[0m     \u001b[0;32mif\u001b[0m \u001b[0;32mnot\u001b[0m \u001b[0mresolutionStr\u001b[0m \u001b[0;32min\u001b[0m \u001b[0mresolutionName\u001b[0m\u001b[0;34m:\u001b[0m\u001b[0;34m\u001b[0m\u001b[0m\n",
      "\u001b[0;31mAttributeError\u001b[0m: 'NoneType' object has no attribute 'shape'"
     ]
    }
   ],
   "source": [
    "resolutionName = []\n",
    "for foldername in dataFiles:\n",
    "    imgFileNames = os.listdir('/Users/hyunminko/20bn-datasets/20bn-jester-v1/'+foldername)\n",
    "    print(imgFileNames)\n",
    "    img = cv2.imread(imgFileNames[0])\n",
    "    rows, cols = img.shape[:2]\n",
    "    resolutionStr = str(rows)+'x'+str(cols)\n",
    "    if not resolutionStr in resolutionName:\n",
    "        resolutionName.append(resolutionStr)\n",
    "print(resolutionName)"
   ]
  },
  {
   "cell_type": "code",
   "execution_count": null,
   "metadata": {
    "collapsed": true
   },
   "outputs": [],
   "source": []
  }
 ],
 "metadata": {
  "kernelspec": {
   "display_name": "tensorflow",
   "language": "python",
   "name": "tensorflow"
  },
  "language_info": {
   "codemirror_mode": {
    "name": "ipython",
    "version": 3
   },
   "file_extension": ".py",
   "mimetype": "text/x-python",
   "name": "python",
   "nbconvert_exporter": "python",
   "pygments_lexer": "ipython3",
   "version": "3.6.2"
  }
 },
 "nbformat": 4,
 "nbformat_minor": 2
}
