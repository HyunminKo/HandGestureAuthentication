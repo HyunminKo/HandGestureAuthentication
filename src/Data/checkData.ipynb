{
 "cells": [
  {
   "cell_type": "code",
   "execution_count": 22,
   "metadata": {},
   "outputs": [
    {
     "name": "stdout",
     "output_type": "stream",
     "text": [
      "148092\n"
     ]
    }
   ],
   "source": [
    "import os\n",
    "import cv2\n",
    "dataFilesPath = '/Users/hyunminko/20bn-datasets/20bn-jester-v1/'\n",
    "dataFiles = os.listdir(dataFilesPath)\n",
    "dataFiles.sort()\n",
    "dataFiles.remove('.DS_Store')\n",
    "print(len(dataFiles))"
   ]
  },
  {
   "cell_type": "code",
   "execution_count": 27,
   "metadata": {},
   "outputs": [
    {
     "name": "stdout",
     "output_type": "stream",
     "text": [
      "{'100x176': 108197, '100x132': 38523, '100x100': 857, '100x106': 43, '100x142': 353, '100x122': 49, '100x160': 50, '100x172': 20}\n"
     ]
    }
   ],
   "source": [
    "countDict={}\n",
    "resolutionName = []\n",
    "for foldername in dataFiles:\n",
    "    imgFileNames = os.listdir(dataFilesPath+foldername)\n",
    "    img = cv2.imread(dataFilesPath+foldername+'/'+imgFileNames[0])\n",
    "    rows, cols = img.shape[:2]\n",
    "    resolutionStr = str(rows)+'x'+str(cols)\n",
    "    if resolutionStr in countDict:\n",
    "        countDict[resolutionStr] = countDict[resolutionStr] + 1\n",
    "    else:\n",
    "        countDict[resolutionStr] = 1\n",
    "print(countDict)"
   ]
  },
  {
   "cell_type": "code",
   "execution_count": 11,
   "metadata": {},
   "outputs": [
    {
     "name": "stdout",
     "output_type": "stream",
     "text": [
      "1\n",
      "1\n",
      "1\n",
      "1\n",
      "1\n",
      "1\n",
      "1\n",
      "1\n",
      "1\n",
      "1\n",
      "1\n",
      "1\n",
      "1\n",
      "1\n",
      "1\n",
      "1\n",
      "1\n",
      "1\n",
      "1\n",
      "1\n",
      "1\n",
      "1\n",
      "1\n",
      "1\n",
      "1\n",
      "1\n",
      "1\n",
      "1\n",
      "1\n",
      "1\n",
      "1\n",
      "1\n",
      "1\n",
      "1\n",
      "1\n",
      "1\n",
      "1\n",
      "1\n",
      "1\n",
      "1\n",
      "1\n",
      "1\n",
      "1\n",
      "1\n",
      "1\n",
      "1\n",
      "1\n",
      "2\n",
      "2\n",
      "2\n",
      "2\n",
      "2\n",
      "2\n"
     ]
    }
   ],
   "source": [
    "import numpy as np\n",
    "import cv2\n",
    "import os\n",
    "\n",
    "img_path = '../DataSample/pos/'\n",
    "gt_path = '../DataSample/posGt/'\n",
    "img_fileNames = os.listdir('../DataSample/pos/')\n",
    "gt_fileNames = os.listdir('../DataSample/posGt/')\n",
    "img_fileNames.sort()\n",
    "gt_fileNames.sort()\n",
    "\n",
    "img_fileNames.remove('.ipynb_checkpoints')\n",
    "gt_fileNames.remove('.ipynb_checkpoints')\n",
    "cv2.namedWindow('image')\n",
    "\n",
    "i = 0\n",
    "for filename in gt_fileNames:\n",
    "    with open(gt_path+filename,\"r\") as f:\n",
    "        lines=[]\n",
    "        while True:\n",
    "            line = f.readline()\n",
    "            if not line: break\n",
    "            if line.startswith('%'): continue\n",
    "            lines.append(line)\n",
    "        maxIndex = 0\n",
    "        areaVal = 0\n",
    "        for i in range(len(lines)):\n",
    "            line_arr = lines[i].split(' ')\n",
    "            if areaVal < float(line_arr[3])*float(line_arr[4]):\n",
    "                areaVal = float(line_arr[3])*float(line_arr[4])\n",
    "                maxIndex = i\n",
    "        print(maxIndex)"
   ]
  },
  {
   "cell_type": "code",
   "execution_count": 12,
   "metadata": {},
   "outputs": [
    {
     "name": "stdout",
     "output_type": "stream",
     "text": [
      "[[1, 2, 3, 4]]\n"
     ]
    }
   ],
   "source": [
    "ys = []\n",
    "ys.append([1,2,3,4])\n",
    "print(ys)"
   ]
  },
  {
   "cell_type": "code",
   "execution_count": null,
   "metadata": {},
   "outputs": [],
   "source": []
  }
 ],
 "metadata": {
  "kernelspec": {
   "display_name": "tensorflow",
   "language": "python",
   "name": "tensorflow"
  },
  "language_info": {
   "codemirror_mode": {
    "name": "ipython",
    "version": 3
   },
   "file_extension": ".py",
   "mimetype": "text/x-python",
   "name": "python",
   "nbconvert_exporter": "python",
   "pygments_lexer": "ipython3",
   "version": "3.6.2"
  }
 },
 "nbformat": 4,
 "nbformat_minor": 2
}
