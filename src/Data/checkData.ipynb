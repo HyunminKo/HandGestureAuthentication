{
 "cells": [
  {
   "cell_type": "code",
   "execution_count": 22,
   "metadata": {},
   "outputs": [
    {
     "name": "stdout",
     "output_type": "stream",
     "text": [
      "148092\n"
     ]
    }
   ],
   "source": [
    "import os\n",
    "import cv2\n",
    "dataFilesPath = '/Users/hyunminko/20bn-datasets/20bn-jester-v1/'\n",
    "dataFiles = os.listdir(dataFilesPath)\n",
    "dataFiles.sort()\n",
    "dataFiles.remove('.DS_Store')\n",
    "print(len(dataFiles))"
   ]
  },
  {
   "cell_type": "code",
   "execution_count": 27,
   "metadata": {},
   "outputs": [
    {
     "name": "stdout",
     "output_type": "stream",
     "text": [
      "{'100x176': 108197, '100x132': 38523, '100x100': 857, '100x106': 43, '100x142': 353, '100x122': 49, '100x160': 50, '100x172': 20}\n"
     ]
    }
   ],
   "source": [
    "countDict={}\n",
    "resolutionName = []\n",
    "for foldername in dataFiles:\n",
    "    imgFileNames = os.listdir(dataFilesPath+foldername)\n",
    "    img = cv2.imread(dataFilesPath+foldername+'/'+imgFileNames[0])\n",
    "    rows, cols = img.shape[:2]\n",
    "    resolutionStr = str(rows)+'x'+str(cols)\n",
    "    if resolutionStr in countDict:\n",
    "        countDict[resolutionStr] = countDict[resolutionStr] + 1\n",
    "    else:\n",
    "        countDict[resolutionStr] = 1\n",
    "print(countDict)"
   ]
  }
 ],
 "metadata": {
  "kernelspec": {
   "display_name": "tensorflow",
   "language": "python",
   "name": "tensorflow"
  },
  "language_info": {
   "codemirror_mode": {
    "name": "ipython",
    "version": 3
   },
   "file_extension": ".py",
   "mimetype": "text/x-python",
   "name": "python",
   "nbconvert_exporter": "python",
   "pygments_lexer": "ipython3",
   "version": "3.6.2"
  }
 },
 "nbformat": 4,
 "nbformat_minor": 2
}
