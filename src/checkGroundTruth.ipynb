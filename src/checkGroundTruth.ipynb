{
 "cells": [
  {
   "cell_type": "code",
   "execution_count": 13,
   "metadata": {},
   "outputs": [
    {
     "name": "stdout",
     "output_type": "stream",
     "text": [
      "269 343 296 167\n",
      "267 337 296 167\n",
      "271 332 296 167\n",
      "274 327 296 167\n",
      "274 327 296 167\n",
      "273 326 296 167\n",
      "267 332 296 167\n",
      "267 332 296 167\n"
     ]
    },
    {
     "data": {
      "text/plain": [
       "'            \\nfor filename in img_fileNames:\\n    img = cv2.imread(img_path+filename)\\n    print(filename)\\n'"
      ]
     },
     "execution_count": 13,
     "metadata": {},
     "output_type": "execute_result"
    }
   ],
   "source": [
    "import numpy as np\n",
    "import cv2\n",
    "import os\n",
    "\n",
    "def on_mouse(event, x, y, flags, param):\n",
    "    if event == cv2.EVENT_LBUTTONDOWN:\n",
    "        print(\"x,y: \",x,y)\n",
    "\n",
    "img_path = './DataSample/pos/'\n",
    "gt_path = './DataSample/posGt/'\n",
    "img_fileNames = os.listdir('./DataSample/pos/')\n",
    "gt_fileNames = os.listdir('./DataSample/posGt/')\n",
    "img_fileNames.sort()\n",
    "gt_fileNames.sort()\n",
    "\n",
    "cv2.namedWindow('image')\n",
    "cv2.setMouseCallback('image', on_mouse)\n",
    "\n",
    "\n",
    "        \n",
    "i = 0\n",
    "for filename in gt_fileNames:\n",
    "    with open(gt_path+filename,\"r\") as f:\n",
    "        while True:\n",
    "            line = f.readline()\n",
    "            if not line: break\n",
    "            if line.startswith('%'): continue\n",
    "            line_arr = line.split(\" \")\n",
    "            print(line_arr[1],line_arr[2],line_arr[3],line_arr[4])\n",
    "            print(img_path+img_fileNames[i])\n",
    "            img = cv2.imread(img_path+img_fileNames[i])\n",
    "            cv2.rectangle(img,(int(line_arr[1]),int(line_arr[2])),(int(line_arr[1])+int(line_arr[3]),int(line_arr[2])+int(line_arr[4])),(0,255,0),3)\n",
    "            cv2.imshow(\"image\",img)\n",
    "            i+=1\n",
    "            cv2.waitKey(0)\n",
    "            \n",
    "\n",
    "cv2.destroyAllWindows()\n",
    "'''            \n",
    "for filename in img_fileNames:\n",
    "    img = cv2.imread(img_path+filename)\n",
    "    print(filename)\n",
    "'''"
   ]
  },
  {
   "cell_type": "code",
   "execution_count": null,
   "metadata": {
    "collapsed": true
   },
   "outputs": [],
   "source": []
  }
 ],
 "metadata": {
  "kernelspec": {
   "display_name": "tensorflow",
   "language": "python",
   "name": "tensorflow"
  },
  "language_info": {
   "codemirror_mode": {
    "name": "ipython",
    "version": 3
   },
   "file_extension": ".py",
   "mimetype": "text/x-python",
   "name": "python",
   "nbconvert_exporter": "python",
   "pygments_lexer": "ipython3",
   "version": "3.6.2"
  }
 },
 "nbformat": 4,
 "nbformat_minor": 2
}
